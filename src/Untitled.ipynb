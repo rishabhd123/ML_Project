{
 "cells": [
  {
   "cell_type": "code",
   "execution_count": 19,
   "metadata": {
    "collapsed": false
   },
   "outputs": [
    {
     "data": {
      "image/png": "[encoded data removed]",
      "text/plain": [
       "<matplotlib.figure.Figure at 0x7fc75b1d2780>"
      ]
     },
     "metadata": {},
     "output_type": "display_data"
    }
   ],
   "source": [
    "import numpy as np\n",
    "import matplotlib.pyplot as plt\n",
    "from pylab import figure, axes, title, show\n",
    "f = open('mug32error.txt','r')\n",
    "str = f.read()\n",
    "words = str.split('\\n')\n",
    "err = np.zeros(234);\n",
    "k=0\n",
    "for w in words:\n",
    "    i=w.find('z2')\n",
    "    if i!=-1:\n",
    "        j=w.find(':')\n",
    "        temp = w[j+1:]\n",
    "        temp = float(temp)\n",
    "        err[k] = temp\n",
    "        k = k+1\n",
    "plt.plot(err)\n",
    "plt.xlabel('Iterations')\n",
    "plt.ylabel('Error')\n",
    "plt.show()\n",
    "plt.savefig('mug32plot.jpg')\n",
    "# xlabel('Iteration')\n",
    "# ylabel('Error')\n",
    "        \n"
   ]
  },
  {
   "cell_type": "code",
   "execution_count": 8,
   "metadata": {
    "collapsed": false
   },
   "outputs": [
    {
     "data": {
      "text/plain": [
       "'0.000220'"
      ]
     },
     "execution_count": 8,
     "metadata": {},
     "output_type": "execute_result"
    }
   ],
   "source": [
    "p = 'z2  w1-w2  MSE Error:0.000220'\n",
    "j=p.find(':')\n",
    "p[j+1:]"
   ]
  }
 ],
 "metadata": {
  "kernelspec": {
   "display_name": "Python 3",
   "language": "python",
   "name": "python3"
  },
  "language_info": {
   "codemirror_mode": {
    "name": "ipython",
    "version": 3
   },
   "file_extension": ".py",
   "mimetype": "text/x-python",
   "name": "python",
   "nbconvert_exporter": "python",
   "pygments_lexer": "ipython3",
   "version": "3.6.0"
  }
 },
 "nbformat": 4,
 "nbformat_minor": 2
}
