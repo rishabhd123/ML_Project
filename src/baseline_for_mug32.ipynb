{
 "cells": [
  {
   "cell_type": "code",
   "execution_count": 7,
   "metadata": {
    "collapsed": true
   },
   "outputs": [],
   "source": [
    "import numpy as np\n",
    "from pandas import read_csv\n",
    "from multiprocessing import Process, Queue\n",
    "from math import floor\n",
    "from scipy.io import loadmat \n",
    "import matplotlib.pyplot as plt\n",
    "\n",
    "\n"
   ]
  },
  {
   "cell_type": "code",
   "execution_count": 12,
   "metadata": {
    "collapsed": false
   },
   "outputs": [
    {
     "name": "stderr",
     "output_type": "stream",
     "text": [
      "/home/clabuser/anaconda3/lib/python3.6/site-packages/ipykernel/__main__.py:35: DeprecationWarning: assignment will raise an error in the future, most likely because your index result shape does not match the value array shape. You can use `arr.flat[index] = values` to keep the old behaviour.\n",
      "/home/clabuser/anaconda3/lib/python3.6/site-packages/ipykernel/__main__.py:35: DeprecationWarning: assignment will raise an error in the future, most likely because your index result shape does not match the value array shape. You can use `arr.flat[index] = values` to keep the old behaviour.\n",
      "/home/clabuser/anaconda3/lib/python3.6/site-packages/ipykernel/__main__.py:35: DeprecationWarning: assignment will raise an error in the future, most likely because your index result shape does not match the value array shape. You can use `arr.flat[index] = values` to keep the old behaviour.\n"
     ]
    },
    {
     "name": "stdout",
     "output_type": "stream",
     "text": [
      "0.0993880614999\n"
     ]
    },
    {
     "name": "stderr",
     "output_type": "stream",
     "text": [
      "/home/clabuser/anaconda3/lib/python3.6/site-packages/ipykernel/__main__.py:35: DeprecationWarning: assignment will raise an error in the future, most likely because your index result shape does not match the value array shape. You can use `arr.flat[index] = values` to keep the old behaviour.\n",
      "/home/clabuser/anaconda3/lib/python3.6/site-packages/ipykernel/__main__.py:35: DeprecationWarning: assignment will raise an error in the future, most likely because your index result shape does not match the value array shape. You can use `arr.flat[index] = values` to keep the old behaviour.\n",
      "/home/clabuser/anaconda3/lib/python3.6/site-packages/ipykernel/__main__.py:35: DeprecationWarning: assignment will raise an error in the future, most likely because your index result shape does not match the value array shape. You can use `arr.flat[index] = values` to keep the old behaviour.\n"
     ]
    },
    {
     "name": "stdout",
     "output_type": "stream",
     "text": [
      "0.0993880615008\n"
     ]
    },
    {
     "name": "stderr",
     "output_type": "stream",
     "text": [
      "/home/clabuser/anaconda3/lib/python3.6/site-packages/ipykernel/__main__.py:35: DeprecationWarning: assignment will raise an error in the future, most likely because your index result shape does not match the value array shape. You can use `arr.flat[index] = values` to keep the old behaviour.\n",
      "/home/clabuser/anaconda3/lib/python3.6/site-packages/ipykernel/__main__.py:35: DeprecationWarning: assignment will raise an error in the future, most likely because your index result shape does not match the value array shape. You can use `arr.flat[index] = values` to keep the old behaviour.\n",
      "/home/clabuser/anaconda3/lib/python3.6/site-packages/ipykernel/__main__.py:35: DeprecationWarning: assignment will raise an error in the future, most likely because your index result shape does not match the value array shape. You can use `arr.flat[index] = values` to keep the old behaviour.\n"
     ]
    },
    {
     "name": "stdout",
     "output_type": "stream",
     "text": [
      "0.0993880615022\n"
     ]
    },
    {
     "name": "stderr",
     "output_type": "stream",
     "text": [
      "/home/clabuser/anaconda3/lib/python3.6/site-packages/ipykernel/__main__.py:35: DeprecationWarning: assignment will raise an error in the future, most likely because your index result shape does not match the value array shape. You can use `arr.flat[index] = values` to keep the old behaviour.\n",
      "/home/clabuser/anaconda3/lib/python3.6/site-packages/ipykernel/__main__.py:35: DeprecationWarning: assignment will raise an error in the future, most likely because your index result shape does not match the value array shape. You can use `arr.flat[index] = values` to keep the old behaviour.\n",
      "/home/clabuser/anaconda3/lib/python3.6/site-packages/ipykernel/__main__.py:35: DeprecationWarning: assignment will raise an error in the future, most likely because your index result shape does not match the value array shape. You can use `arr.flat[index] = values` to keep the old behaviour.\n"
     ]
    },
    {
     "name": "stdout",
     "output_type": "stream",
     "text": [
      "0.0993880615083\n"
     ]
    },
    {
     "name": "stderr",
     "output_type": "stream",
     "text": [
      "/home/clabuser/anaconda3/lib/python3.6/site-packages/ipykernel/__main__.py:35: DeprecationWarning: assignment will raise an error in the future, most likely because your index result shape does not match the value array shape. You can use `arr.flat[index] = values` to keep the old behaviour.\n",
      "/home/clabuser/anaconda3/lib/python3.6/site-packages/ipykernel/__main__.py:35: DeprecationWarning: assignment will raise an error in the future, most likely because your index result shape does not match the value array shape. You can use `arr.flat[index] = values` to keep the old behaviour.\n",
      "/home/clabuser/anaconda3/lib/python3.6/site-packages/ipykernel/__main__.py:35: DeprecationWarning: assignment will raise an error in the future, most likely because your index result shape does not match the value array shape. You can use `arr.flat[index] = values` to keep the old behaviour.\n"
     ]
    },
    {
     "name": "stdout",
     "output_type": "stream",
     "text": [
      "0.0993880615127\n"
     ]
    },
    {
     "name": "stderr",
     "output_type": "stream",
     "text": [
      "/home/clabuser/anaconda3/lib/python3.6/site-packages/ipykernel/__main__.py:35: DeprecationWarning: assignment will raise an error in the future, most likely because your index result shape does not match the value array shape. You can use `arr.flat[index] = values` to keep the old behaviour.\n",
      "/home/clabuser/anaconda3/lib/python3.6/site-packages/ipykernel/__main__.py:35: DeprecationWarning: assignment will raise an error in the future, most likely because your index result shape does not match the value array shape. You can use `arr.flat[index] = values` to keep the old behaviour.\n",
      "/home/clabuser/anaconda3/lib/python3.6/site-packages/ipykernel/__main__.py:35: DeprecationWarning: assignment will raise an error in the future, most likely because your index result shape does not match the value array shape. You can use `arr.flat[index] = values` to keep the old behaviour.\n"
     ]
    },
    {
     "name": "stdout",
     "output_type": "stream",
     "text": [
      "0.0993880615127\n"
     ]
    },
    {
     "name": "stderr",
     "output_type": "stream",
     "text": [
      "/home/clabuser/anaconda3/lib/python3.6/site-packages/ipykernel/__main__.py:35: DeprecationWarning: assignment will raise an error in the future, most likely because your index result shape does not match the value array shape. You can use `arr.flat[index] = values` to keep the old behaviour.\n",
      "/home/clabuser/anaconda3/lib/python3.6/site-packages/ipykernel/__main__.py:35: DeprecationWarning: assignment will raise an error in the future, most likely because your index result shape does not match the value array shape. You can use `arr.flat[index] = values` to keep the old behaviour.\n",
      "/home/clabuser/anaconda3/lib/python3.6/site-packages/ipykernel/__main__.py:35: DeprecationWarning: assignment will raise an error in the future, most likely because your index result shape does not match the value array shape. You can use `arr.flat[index] = values` to keep the old behaviour.\n"
     ]
    },
    {
     "name": "stdout",
     "output_type": "stream",
     "text": [
      "0.0993880615241\n"
     ]
    },
    {
     "name": "stderr",
     "output_type": "stream",
     "text": [
      "/home/clabuser/anaconda3/lib/python3.6/site-packages/ipykernel/__main__.py:35: DeprecationWarning: assignment will raise an error in the future, most likely because your index result shape does not match the value array shape. You can use `arr.flat[index] = values` to keep the old behaviour.\n",
      "/home/clabuser/anaconda3/lib/python3.6/site-packages/ipykernel/__main__.py:35: DeprecationWarning: assignment will raise an error in the future, most likely because your index result shape does not match the value array shape. You can use `arr.flat[index] = values` to keep the old behaviour.\n",
      "/home/clabuser/anaconda3/lib/python3.6/site-packages/ipykernel/__main__.py:35: DeprecationWarning: assignment will raise an error in the future, most likely because your index result shape does not match the value array shape. You can use `arr.flat[index] = values` to keep the old behaviour.\n"
     ]
    },
    {
     "name": "stdout",
     "output_type": "stream",
     "text": [
      "0.0993880615378\n"
     ]
    },
    {
     "name": "stderr",
     "output_type": "stream",
     "text": [
      "/home/clabuser/anaconda3/lib/python3.6/site-packages/ipykernel/__main__.py:35: DeprecationWarning: assignment will raise an error in the future, most likely because your index result shape does not match the value array shape. You can use `arr.flat[index] = values` to keep the old behaviour.\n",
      "/home/clabuser/anaconda3/lib/python3.6/site-packages/ipykernel/__main__.py:35: DeprecationWarning: assignment will raise an error in the future, most likely because your index result shape does not match the value array shape. You can use `arr.flat[index] = values` to keep the old behaviour.\n",
      "/home/clabuser/anaconda3/lib/python3.6/site-packages/ipykernel/__main__.py:35: DeprecationWarning: assignment will raise an error in the future, most likely because your index result shape does not match the value array shape. You can use `arr.flat[index] = values` to keep the old behaviour.\n"
     ]
    },
    {
     "name": "stdout",
     "output_type": "stream",
     "text": [
      "0.0993880615378\n"
     ]
    },
    {
     "name": "stderr",
     "output_type": "stream",
     "text": [
      "/home/clabuser/anaconda3/lib/python3.6/site-packages/ipykernel/__main__.py:35: DeprecationWarning: assignment will raise an error in the future, most likely because your index result shape does not match the value array shape. You can use `arr.flat[index] = values` to keep the old behaviour.\n",
      "/home/clabuser/anaconda3/lib/python3.6/site-packages/ipykernel/__main__.py:35: DeprecationWarning: assignment will raise an error in the future, most likely because your index result shape does not match the value array shape. You can use `arr.flat[index] = values` to keep the old behaviour.\n",
      "/home/clabuser/anaconda3/lib/python3.6/site-packages/ipykernel/__main__.py:35: DeprecationWarning: assignment will raise an error in the future, most likely because your index result shape does not match the value array shape. You can use `arr.flat[index] = values` to keep the old behaviour.\n"
     ]
    },
    {
     "name": "stdout",
     "output_type": "stream",
     "text": [
      "0.0993880615466\n"
     ]
    },
    {
     "name": "stderr",
     "output_type": "stream",
     "text": [
      "/home/clabuser/anaconda3/lib/python3.6/site-packages/ipykernel/__main__.py:35: DeprecationWarning: assignment will raise an error in the future, most likely because your index result shape does not match the value array shape. You can use `arr.flat[index] = values` to keep the old behaviour.\n",
      "/home/clabuser/anaconda3/lib/python3.6/site-packages/ipykernel/__main__.py:35: DeprecationWarning: assignment will raise an error in the future, most likely because your index result shape does not match the value array shape. You can use `arr.flat[index] = values` to keep the old behaviour.\n",
      "/home/clabuser/anaconda3/lib/python3.6/site-packages/ipykernel/__main__.py:35: DeprecationWarning: assignment will raise an error in the future, most likely because your index result shape does not match the value array shape. You can use `arr.flat[index] = values` to keep the old behaviour.\n"
     ]
    },
    {
     "name": "stdout",
     "output_type": "stream",
     "text": [
      "0.0993880615601\n"
     ]
    },
    {
     "name": "stderr",
     "output_type": "stream",
     "text": [
      "/home/clabuser/anaconda3/lib/python3.6/site-packages/ipykernel/__main__.py:35: DeprecationWarning: assignment will raise an error in the future, most likely because your index result shape does not match the value array shape. You can use `arr.flat[index] = values` to keep the old behaviour.\n",
      "/home/clabuser/anaconda3/lib/python3.6/site-packages/ipykernel/__main__.py:35: DeprecationWarning: assignment will raise an error in the future, most likely because your index result shape does not match the value array shape. You can use `arr.flat[index] = values` to keep the old behaviour.\n",
      "/home/clabuser/anaconda3/lib/python3.6/site-packages/ipykernel/__main__.py:35: DeprecationWarning: assignment will raise an error in the future, most likely because your index result shape does not match the value array shape. You can use `arr.flat[index] = values` to keep the old behaviour.\n"
     ]
    },
    {
     "name": "stdout",
     "output_type": "stream",
     "text": [
      "0.0993880615735\n"
     ]
    },
    {
     "name": "stderr",
     "output_type": "stream",
     "text": [
      "/home/clabuser/anaconda3/lib/python3.6/site-packages/ipykernel/__main__.py:35: DeprecationWarning: assignment will raise an error in the future, most likely because your index result shape does not match the value array shape. You can use `arr.flat[index] = values` to keep the old behaviour.\n",
      "/home/clabuser/anaconda3/lib/python3.6/site-packages/ipykernel/__main__.py:35: DeprecationWarning: assignment will raise an error in the future, most likely because your index result shape does not match the value array shape. You can use `arr.flat[index] = values` to keep the old behaviour.\n",
      "/home/clabuser/anaconda3/lib/python3.6/site-packages/ipykernel/__main__.py:35: DeprecationWarning: assignment will raise an error in the future, most likely because your index result shape does not match the value array shape. You can use `arr.flat[index] = values` to keep the old behaviour.\n"
     ]
    },
    {
     "name": "stdout",
     "output_type": "stream",
     "text": [
      "0.0993880616014\n"
     ]
    },
    {
     "name": "stderr",
     "output_type": "stream",
     "text": [
      "/home/clabuser/anaconda3/lib/python3.6/site-packages/ipykernel/__main__.py:35: DeprecationWarning: assignment will raise an error in the future, most likely because your index result shape does not match the value array shape. You can use `arr.flat[index] = values` to keep the old behaviour.\n",
      "/home/clabuser/anaconda3/lib/python3.6/site-packages/ipykernel/__main__.py:35: DeprecationWarning: assignment will raise an error in the future, most likely because your index result shape does not match the value array shape. You can use `arr.flat[index] = values` to keep the old behaviour.\n",
      "/home/clabuser/anaconda3/lib/python3.6/site-packages/ipykernel/__main__.py:35: DeprecationWarning: assignment will raise an error in the future, most likely because your index result shape does not match the value array shape. You can use `arr.flat[index] = values` to keep the old behaviour.\n"
     ]
    },
    {
     "name": "stdout",
     "output_type": "stream",
     "text": [
      "0.0993880616706\n"
     ]
    },
    {
     "name": "stderr",
     "output_type": "stream",
     "text": [
      "/home/clabuser/anaconda3/lib/python3.6/site-packages/ipykernel/__main__.py:35: DeprecationWarning: assignment will raise an error in the future, most likely because your index result shape does not match the value array shape. You can use `arr.flat[index] = values` to keep the old behaviour.\n",
      "/home/clabuser/anaconda3/lib/python3.6/site-packages/ipykernel/__main__.py:35: DeprecationWarning: assignment will raise an error in the future, most likely because your index result shape does not match the value array shape. You can use `arr.flat[index] = values` to keep the old behaviour.\n",
      "/home/clabuser/anaconda3/lib/python3.6/site-packages/ipykernel/__main__.py:35: DeprecationWarning: assignment will raise an error in the future, most likely because your index result shape does not match the value array shape. You can use `arr.flat[index] = values` to keep the old behaviour.\n"
     ]
    },
    {
     "name": "stdout",
     "output_type": "stream",
     "text": [
      "0.0993880616993\n"
     ]
    },
    {
     "name": "stderr",
     "output_type": "stream",
     "text": [
      "/home/clabuser/anaconda3/lib/python3.6/site-packages/ipykernel/__main__.py:35: DeprecationWarning: assignment will raise an error in the future, most likely because your index result shape does not match the value array shape. You can use `arr.flat[index] = values` to keep the old behaviour.\n",
      "/home/clabuser/anaconda3/lib/python3.6/site-packages/ipykernel/__main__.py:35: DeprecationWarning: assignment will raise an error in the future, most likely because your index result shape does not match the value array shape. You can use `arr.flat[index] = values` to keep the old behaviour.\n",
      "/home/clabuser/anaconda3/lib/python3.6/site-packages/ipykernel/__main__.py:35: DeprecationWarning: assignment will raise an error in the future, most likely because your index result shape does not match the value array shape. You can use `arr.flat[index] = values` to keep the old behaviour.\n"
     ]
    },
    {
     "name": "stdout",
     "output_type": "stream",
     "text": [
      "0.0993880617273\n"
     ]
    },
    {
     "name": "stderr",
     "output_type": "stream",
     "text": [
      "/home/clabuser/anaconda3/lib/python3.6/site-packages/ipykernel/__main__.py:35: DeprecationWarning: assignment will raise an error in the future, most likely because your index result shape does not match the value array shape. You can use `arr.flat[index] = values` to keep the old behaviour.\n",
      "/home/clabuser/anaconda3/lib/python3.6/site-packages/ipykernel/__main__.py:35: DeprecationWarning: assignment will raise an error in the future, most likely because your index result shape does not match the value array shape. You can use `arr.flat[index] = values` to keep the old behaviour.\n",
      "/home/clabuser/anaconda3/lib/python3.6/site-packages/ipykernel/__main__.py:35: DeprecationWarning: assignment will raise an error in the future, most likely because your index result shape does not match the value array shape. You can use `arr.flat[index] = values` to keep the old behaviour.\n"
     ]
    },
    {
     "name": "stdout",
     "output_type": "stream",
     "text": [
      "0.0993880617353\n"
     ]
    },
    {
     "name": "stderr",
     "output_type": "stream",
     "text": [
      "/home/clabuser/anaconda3/lib/python3.6/site-packages/ipykernel/__main__.py:35: DeprecationWarning: assignment will raise an error in the future, most likely because your index result shape does not match the value array shape. You can use `arr.flat[index] = values` to keep the old behaviour.\n",
      "/home/clabuser/anaconda3/lib/python3.6/site-packages/ipykernel/__main__.py:35: DeprecationWarning: assignment will raise an error in the future, most likely because your index result shape does not match the value array shape. You can use `arr.flat[index] = values` to keep the old behaviour.\n",
      "/home/clabuser/anaconda3/lib/python3.6/site-packages/ipykernel/__main__.py:35: DeprecationWarning: assignment will raise an error in the future, most likely because your index result shape does not match the value array shape. You can use `arr.flat[index] = values` to keep the old behaviour.\n"
     ]
    },
    {
     "name": "stdout",
     "output_type": "stream",
     "text": [
      "0.0993880617233\n"
     ]
    },
    {
     "name": "stderr",
     "output_type": "stream",
     "text": [
      "/home/clabuser/anaconda3/lib/python3.6/site-packages/ipykernel/__main__.py:35: DeprecationWarning: assignment will raise an error in the future, most likely because your index result shape does not match the value array shape. You can use `arr.flat[index] = values` to keep the old behaviour.\n",
      "/home/clabuser/anaconda3/lib/python3.6/site-packages/ipykernel/__main__.py:35: DeprecationWarning: assignment will raise an error in the future, most likely because your index result shape does not match the value array shape. You can use `arr.flat[index] = values` to keep the old behaviour.\n",
      "/home/clabuser/anaconda3/lib/python3.6/site-packages/ipykernel/__main__.py:35: DeprecationWarning: assignment will raise an error in the future, most likely because your index result shape does not match the value array shape. You can use `arr.flat[index] = values` to keep the old behaviour.\n"
     ]
    },
    {
     "name": "stdout",
     "output_type": "stream",
     "text": [
      "0.0993880617476\n"
     ]
    },
    {
     "name": "stderr",
     "output_type": "stream",
     "text": [
      "/home/clabuser/anaconda3/lib/python3.6/site-packages/ipykernel/__main__.py:35: DeprecationWarning: assignment will raise an error in the future, most likely because your index result shape does not match the value array shape. You can use `arr.flat[index] = values` to keep the old behaviour.\n",
      "/home/clabuser/anaconda3/lib/python3.6/site-packages/ipykernel/__main__.py:35: DeprecationWarning: assignment will raise an error in the future, most likely because your index result shape does not match the value array shape. You can use `arr.flat[index] = values` to keep the old behaviour.\n",
      "/home/clabuser/anaconda3/lib/python3.6/site-packages/ipykernel/__main__.py:35: DeprecationWarning: assignment will raise an error in the future, most likely because your index result shape does not match the value array shape. You can use `arr.flat[index] = values` to keep the old behaviour.\n"
     ]
    },
    {
     "name": "stdout",
     "output_type": "stream",
     "text": [
      "0.0993880617292\n"
     ]
    },
    {
     "name": "stderr",
     "output_type": "stream",
     "text": [
      "/home/clabuser/anaconda3/lib/python3.6/site-packages/ipykernel/__main__.py:35: DeprecationWarning: assignment will raise an error in the future, most likely because your index result shape does not match the value array shape. You can use `arr.flat[index] = values` to keep the old behaviour.\n",
      "/home/clabuser/anaconda3/lib/python3.6/site-packages/ipykernel/__main__.py:35: DeprecationWarning: assignment will raise an error in the future, most likely because your index result shape does not match the value array shape. You can use `arr.flat[index] = values` to keep the old behaviour.\n",
      "/home/clabuser/anaconda3/lib/python3.6/site-packages/ipykernel/__main__.py:35: DeprecationWarning: assignment will raise an error in the future, most likely because your index result shape does not match the value array shape. You can use `arr.flat[index] = values` to keep the old behaviour.\n"
     ]
    },
    {
     "name": "stdout",
     "output_type": "stream",
     "text": [
      "0.0993880617357\n"
     ]
    },
    {
     "name": "stderr",
     "output_type": "stream",
     "text": [
      "/home/clabuser/anaconda3/lib/python3.6/site-packages/ipykernel/__main__.py:35: DeprecationWarning: assignment will raise an error in the future, most likely because your index result shape does not match the value array shape. You can use `arr.flat[index] = values` to keep the old behaviour.\n",
      "/home/clabuser/anaconda3/lib/python3.6/site-packages/ipykernel/__main__.py:35: DeprecationWarning: assignment will raise an error in the future, most likely because your index result shape does not match the value array shape. You can use `arr.flat[index] = values` to keep the old behaviour.\n",
      "/home/clabuser/anaconda3/lib/python3.6/site-packages/ipykernel/__main__.py:35: DeprecationWarning: assignment will raise an error in the future, most likely because your index result shape does not match the value array shape. You can use `arr.flat[index] = values` to keep the old behaviour.\n"
     ]
    },
    {
     "name": "stdout",
     "output_type": "stream",
     "text": [
      "0.0993880617798\n"
     ]
    },
    {
     "name": "stderr",
     "output_type": "stream",
     "text": [
      "/home/clabuser/anaconda3/lib/python3.6/site-packages/ipykernel/__main__.py:35: DeprecationWarning: assignment will raise an error in the future, most likely because your index result shape does not match the value array shape. You can use `arr.flat[index] = values` to keep the old behaviour.\n",
      "/home/clabuser/anaconda3/lib/python3.6/site-packages/ipykernel/__main__.py:35: DeprecationWarning: assignment will raise an error in the future, most likely because your index result shape does not match the value array shape. You can use `arr.flat[index] = values` to keep the old behaviour.\n",
      "/home/clabuser/anaconda3/lib/python3.6/site-packages/ipykernel/__main__.py:35: DeprecationWarning: assignment will raise an error in the future, most likely because your index result shape does not match the value array shape. You can use `arr.flat[index] = values` to keep the old behaviour.\n"
     ]
    },
    {
     "name": "stdout",
     "output_type": "stream",
     "text": [
      "0.0993880618732\n"
     ]
    },
    {
     "name": "stderr",
     "output_type": "stream",
     "text": [
      "/home/clabuser/anaconda3/lib/python3.6/site-packages/ipykernel/__main__.py:35: DeprecationWarning: assignment will raise an error in the future, most likely because your index result shape does not match the value array shape. You can use `arr.flat[index] = values` to keep the old behaviour.\n",
      "/home/clabuser/anaconda3/lib/python3.6/site-packages/ipykernel/__main__.py:35: DeprecationWarning: assignment will raise an error in the future, most likely because your index result shape does not match the value array shape. You can use `arr.flat[index] = values` to keep the old behaviour.\n",
      "/home/clabuser/anaconda3/lib/python3.6/site-packages/ipykernel/__main__.py:35: DeprecationWarning: assignment will raise an error in the future, most likely because your index result shape does not match the value array shape. You can use `arr.flat[index] = values` to keep the old behaviour.\n"
     ]
    },
    {
     "name": "stdout",
     "output_type": "stream",
     "text": [
      "0.099388061869\n"
     ]
    },
    {
     "name": "stderr",
     "output_type": "stream",
     "text": [
      "/home/clabuser/anaconda3/lib/python3.6/site-packages/ipykernel/__main__.py:35: DeprecationWarning: assignment will raise an error in the future, most likely because your index result shape does not match the value array shape. You can use `arr.flat[index] = values` to keep the old behaviour.\n",
      "/home/clabuser/anaconda3/lib/python3.6/site-packages/ipykernel/__main__.py:35: DeprecationWarning: assignment will raise an error in the future, most likely because your index result shape does not match the value array shape. You can use `arr.flat[index] = values` to keep the old behaviour.\n",
      "/home/clabuser/anaconda3/lib/python3.6/site-packages/ipykernel/__main__.py:35: DeprecationWarning: assignment will raise an error in the future, most likely because your index result shape does not match the value array shape. You can use `arr.flat[index] = values` to keep the old behaviour.\n"
     ]
    },
    {
     "name": "stdout",
     "output_type": "stream",
     "text": [
      "0.0993880619191\n"
     ]
    },
    {
     "name": "stderr",
     "output_type": "stream",
     "text": [
      "/home/clabuser/anaconda3/lib/python3.6/site-packages/ipykernel/__main__.py:35: DeprecationWarning: assignment will raise an error in the future, most likely because your index result shape does not match the value array shape. You can use `arr.flat[index] = values` to keep the old behaviour.\n",
      "/home/clabuser/anaconda3/lib/python3.6/site-packages/ipykernel/__main__.py:35: DeprecationWarning: assignment will raise an error in the future, most likely because your index result shape does not match the value array shape. You can use `arr.flat[index] = values` to keep the old behaviour.\n",
      "/home/clabuser/anaconda3/lib/python3.6/site-packages/ipykernel/__main__.py:35: DeprecationWarning: assignment will raise an error in the future, most likely because your index result shape does not match the value array shape. You can use `arr.flat[index] = values` to keep the old behaviour.\n"
     ]
    },
    {
     "name": "stdout",
     "output_type": "stream",
     "text": [
      "0.0993880619729\n"
     ]
    },
    {
     "name": "stderr",
     "output_type": "stream",
     "text": [
      "/home/clabuser/anaconda3/lib/python3.6/site-packages/ipykernel/__main__.py:35: DeprecationWarning: assignment will raise an error in the future, most likely because your index result shape does not match the value array shape. You can use `arr.flat[index] = values` to keep the old behaviour.\n",
      "/home/clabuser/anaconda3/lib/python3.6/site-packages/ipykernel/__main__.py:35: DeprecationWarning: assignment will raise an error in the future, most likely because your index result shape does not match the value array shape. You can use `arr.flat[index] = values` to keep the old behaviour.\n",
      "/home/clabuser/anaconda3/lib/python3.6/site-packages/ipykernel/__main__.py:35: DeprecationWarning: assignment will raise an error in the future, most likely because your index result shape does not match the value array shape. You can use `arr.flat[index] = values` to keep the old behaviour.\n"
     ]
    },
    {
     "name": "stdout",
     "output_type": "stream",
     "text": [
      "0.0993880620182\n"
     ]
    },
    {
     "name": "stderr",
     "output_type": "stream",
     "text": [
      "/home/clabuser/anaconda3/lib/python3.6/site-packages/ipykernel/__main__.py:35: DeprecationWarning: assignment will raise an error in the future, most likely because your index result shape does not match the value array shape. You can use `arr.flat[index] = values` to keep the old behaviour.\n",
      "/home/clabuser/anaconda3/lib/python3.6/site-packages/ipykernel/__main__.py:35: DeprecationWarning: assignment will raise an error in the future, most likely because your index result shape does not match the value array shape. You can use `arr.flat[index] = values` to keep the old behaviour.\n",
      "/home/clabuser/anaconda3/lib/python3.6/site-packages/ipykernel/__main__.py:35: DeprecationWarning: assignment will raise an error in the future, most likely because your index result shape does not match the value array shape. You can use `arr.flat[index] = values` to keep the old behaviour.\n"
     ]
    },
    {
     "name": "stdout",
     "output_type": "stream",
     "text": [
      "0.0993880621646\n"
     ]
    },
    {
     "name": "stderr",
     "output_type": "stream",
     "text": [
      "/home/clabuser/anaconda3/lib/python3.6/site-packages/ipykernel/__main__.py:35: DeprecationWarning: assignment will raise an error in the future, most likely because your index result shape does not match the value array shape. You can use `arr.flat[index] = values` to keep the old behaviour.\n",
      "/home/clabuser/anaconda3/lib/python3.6/site-packages/ipykernel/__main__.py:35: DeprecationWarning: assignment will raise an error in the future, most likely because your index result shape does not match the value array shape. You can use `arr.flat[index] = values` to keep the old behaviour.\n",
      "/home/clabuser/anaconda3/lib/python3.6/site-packages/ipykernel/__main__.py:35: DeprecationWarning: assignment will raise an error in the future, most likely because your index result shape does not match the value array shape. You can use `arr.flat[index] = values` to keep the old behaviour.\n"
     ]
    },
    {
     "name": "stdout",
     "output_type": "stream",
     "text": [
      "0.0993880621396\n"
     ]
    },
    {
     "name": "stderr",
     "output_type": "stream",
     "text": [
      "/home/clabuser/anaconda3/lib/python3.6/site-packages/ipykernel/__main__.py:35: DeprecationWarning: assignment will raise an error in the future, most likely because your index result shape does not match the value array shape. You can use `arr.flat[index] = values` to keep the old behaviour.\n",
      "/home/clabuser/anaconda3/lib/python3.6/site-packages/ipykernel/__main__.py:35: DeprecationWarning: assignment will raise an error in the future, most likely because your index result shape does not match the value array shape. You can use `arr.flat[index] = values` to keep the old behaviour.\n",
      "/home/clabuser/anaconda3/lib/python3.6/site-packages/ipykernel/__main__.py:35: DeprecationWarning: assignment will raise an error in the future, most likely because your index result shape does not match the value array shape. You can use `arr.flat[index] = values` to keep the old behaviour.\n"
     ]
    },
    {
     "name": "stdout",
     "output_type": "stream",
     "text": [
      "0.0993880622436\n"
     ]
    },
    {
     "name": "stderr",
     "output_type": "stream",
     "text": [
      "/home/clabuser/anaconda3/lib/python3.6/site-packages/ipykernel/__main__.py:35: DeprecationWarning: assignment will raise an error in the future, most likely because your index result shape does not match the value array shape. You can use `arr.flat[index] = values` to keep the old behaviour.\n",
      "/home/clabuser/anaconda3/lib/python3.6/site-packages/ipykernel/__main__.py:35: DeprecationWarning: assignment will raise an error in the future, most likely because your index result shape does not match the value array shape. You can use `arr.flat[index] = values` to keep the old behaviour.\n",
      "/home/clabuser/anaconda3/lib/python3.6/site-packages/ipykernel/__main__.py:35: DeprecationWarning: assignment will raise an error in the future, most likely because your index result shape does not match the value array shape. You can use `arr.flat[index] = values` to keep the old behaviour.\n"
     ]
    },
    {
     "name": "stdout",
     "output_type": "stream",
     "text": [
      "0.099388062305\n"
     ]
    },
    {
     "name": "stderr",
     "output_type": "stream",
     "text": [
      "/home/clabuser/anaconda3/lib/python3.6/site-packages/ipykernel/__main__.py:35: DeprecationWarning: assignment will raise an error in the future, most likely because your index result shape does not match the value array shape. You can use `arr.flat[index] = values` to keep the old behaviour.\n",
      "/home/clabuser/anaconda3/lib/python3.6/site-packages/ipykernel/__main__.py:35: DeprecationWarning: assignment will raise an error in the future, most likely because your index result shape does not match the value array shape. You can use `arr.flat[index] = values` to keep the old behaviour.\n",
      "/home/clabuser/anaconda3/lib/python3.6/site-packages/ipykernel/__main__.py:35: DeprecationWarning: assignment will raise an error in the future, most likely because your index result shape does not match the value array shape. You can use `arr.flat[index] = values` to keep the old behaviour.\n"
     ]
    },
    {
     "name": "stdout",
     "output_type": "stream",
     "text": [
      "0.099388062353\n"
     ]
    },
    {
     "name": "stderr",
     "output_type": "stream",
     "text": [
      "/home/clabuser/anaconda3/lib/python3.6/site-packages/ipykernel/__main__.py:35: DeprecationWarning: assignment will raise an error in the future, most likely because your index result shape does not match the value array shape. You can use `arr.flat[index] = values` to keep the old behaviour.\n",
      "/home/clabuser/anaconda3/lib/python3.6/site-packages/ipykernel/__main__.py:35: DeprecationWarning: assignment will raise an error in the future, most likely because your index result shape does not match the value array shape. You can use `arr.flat[index] = values` to keep the old behaviour.\n",
      "/home/clabuser/anaconda3/lib/python3.6/site-packages/ipykernel/__main__.py:35: DeprecationWarning: assignment will raise an error in the future, most likely because your index result shape does not match the value array shape. You can use `arr.flat[index] = values` to keep the old behaviour.\n"
     ]
    },
    {
     "name": "stdout",
     "output_type": "stream",
     "text": [
      "0.0993880624163\n"
     ]
    },
    {
     "name": "stderr",
     "output_type": "stream",
     "text": [
      "/home/clabuser/anaconda3/lib/python3.6/site-packages/ipykernel/__main__.py:35: DeprecationWarning: assignment will raise an error in the future, most likely because your index result shape does not match the value array shape. You can use `arr.flat[index] = values` to keep the old behaviour.\n",
      "/home/clabuser/anaconda3/lib/python3.6/site-packages/ipykernel/__main__.py:35: DeprecationWarning: assignment will raise an error in the future, most likely because your index result shape does not match the value array shape. You can use `arr.flat[index] = values` to keep the old behaviour.\n",
      "/home/clabuser/anaconda3/lib/python3.6/site-packages/ipykernel/__main__.py:35: DeprecationWarning: assignment will raise an error in the future, most likely because your index result shape does not match the value array shape. You can use `arr.flat[index] = values` to keep the old behaviour.\n"
     ]
    },
    {
     "name": "stdout",
     "output_type": "stream",
     "text": [
      "0.0993880624943\n"
     ]
    },
    {
     "name": "stderr",
     "output_type": "stream",
     "text": [
      "/home/clabuser/anaconda3/lib/python3.6/site-packages/ipykernel/__main__.py:35: DeprecationWarning: assignment will raise an error in the future, most likely because your index result shape does not match the value array shape. You can use `arr.flat[index] = values` to keep the old behaviour.\n",
      "/home/clabuser/anaconda3/lib/python3.6/site-packages/ipykernel/__main__.py:35: DeprecationWarning: assignment will raise an error in the future, most likely because your index result shape does not match the value array shape. You can use `arr.flat[index] = values` to keep the old behaviour.\n",
      "/home/clabuser/anaconda3/lib/python3.6/site-packages/ipykernel/__main__.py:35: DeprecationWarning: assignment will raise an error in the future, most likely because your index result shape does not match the value array shape. You can use `arr.flat[index] = values` to keep the old behaviour.\n"
     ]
    },
    {
     "name": "stdout",
     "output_type": "stream",
     "text": [
      "0.0993880626251\n"
     ]
    },
    {
     "name": "stderr",
     "output_type": "stream",
     "text": [
      "/home/clabuser/anaconda3/lib/python3.6/site-packages/ipykernel/__main__.py:35: DeprecationWarning: assignment will raise an error in the future, most likely because your index result shape does not match the value array shape. You can use `arr.flat[index] = values` to keep the old behaviour.\n",
      "/home/clabuser/anaconda3/lib/python3.6/site-packages/ipykernel/__main__.py:35: DeprecationWarning: assignment will raise an error in the future, most likely because your index result shape does not match the value array shape. You can use `arr.flat[index] = values` to keep the old behaviour.\n",
      "/home/clabuser/anaconda3/lib/python3.6/site-packages/ipykernel/__main__.py:35: DeprecationWarning: assignment will raise an error in the future, most likely because your index result shape does not match the value array shape. You can use `arr.flat[index] = values` to keep the old behaviour.\n"
     ]
    },
    {
     "name": "stdout",
     "output_type": "stream",
     "text": [
      "0.0993880626132\n"
     ]
    },
    {
     "name": "stderr",
     "output_type": "stream",
     "text": [
      "/home/clabuser/anaconda3/lib/python3.6/site-packages/ipykernel/__main__.py:35: DeprecationWarning: assignment will raise an error in the future, most likely because your index result shape does not match the value array shape. You can use `arr.flat[index] = values` to keep the old behaviour.\n",
      "/home/clabuser/anaconda3/lib/python3.6/site-packages/ipykernel/__main__.py:35: DeprecationWarning: assignment will raise an error in the future, most likely because your index result shape does not match the value array shape. You can use `arr.flat[index] = values` to keep the old behaviour.\n",
      "/home/clabuser/anaconda3/lib/python3.6/site-packages/ipykernel/__main__.py:35: DeprecationWarning: assignment will raise an error in the future, most likely because your index result shape does not match the value array shape. You can use `arr.flat[index] = values` to keep the old behaviour.\n"
     ]
    },
    {
     "name": "stdout",
     "output_type": "stream",
     "text": [
      "0.0993880625889\n"
     ]
    },
    {
     "name": "stderr",
     "output_type": "stream",
     "text": [
      "/home/clabuser/anaconda3/lib/python3.6/site-packages/ipykernel/__main__.py:35: DeprecationWarning: assignment will raise an error in the future, most likely because your index result shape does not match the value array shape. You can use `arr.flat[index] = values` to keep the old behaviour.\n",
      "/home/clabuser/anaconda3/lib/python3.6/site-packages/ipykernel/__main__.py:35: DeprecationWarning: assignment will raise an error in the future, most likely because your index result shape does not match the value array shape. You can use `arr.flat[index] = values` to keep the old behaviour.\n",
      "/home/clabuser/anaconda3/lib/python3.6/site-packages/ipykernel/__main__.py:35: DeprecationWarning: assignment will raise an error in the future, most likely because your index result shape does not match the value array shape. You can use `arr.flat[index] = values` to keep the old behaviour.\n"
     ]
    },
    {
     "name": "stdout",
     "output_type": "stream",
     "text": [
      "0.0993880626215\n"
     ]
    },
    {
     "name": "stderr",
     "output_type": "stream",
     "text": [
      "/home/clabuser/anaconda3/lib/python3.6/site-packages/ipykernel/__main__.py:35: DeprecationWarning: assignment will raise an error in the future, most likely because your index result shape does not match the value array shape. You can use `arr.flat[index] = values` to keep the old behaviour.\n",
      "/home/clabuser/anaconda3/lib/python3.6/site-packages/ipykernel/__main__.py:35: DeprecationWarning: assignment will raise an error in the future, most likely because your index result shape does not match the value array shape. You can use `arr.flat[index] = values` to keep the old behaviour.\n",
      "/home/clabuser/anaconda3/lib/python3.6/site-packages/ipykernel/__main__.py:35: DeprecationWarning: assignment will raise an error in the future, most likely because your index result shape does not match the value array shape. You can use `arr.flat[index] = values` to keep the old behaviour.\n"
     ]
    },
    {
     "name": "stdout",
     "output_type": "stream",
     "text": [
      "0.099388062645\n"
     ]
    },
    {
     "name": "stderr",
     "output_type": "stream",
     "text": [
      "/home/clabuser/anaconda3/lib/python3.6/site-packages/ipykernel/__main__.py:35: DeprecationWarning: assignment will raise an error in the future, most likely because your index result shape does not match the value array shape. You can use `arr.flat[index] = values` to keep the old behaviour.\n",
      "/home/clabuser/anaconda3/lib/python3.6/site-packages/ipykernel/__main__.py:35: DeprecationWarning: assignment will raise an error in the future, most likely because your index result shape does not match the value array shape. You can use `arr.flat[index] = values` to keep the old behaviour.\n",
      "/home/clabuser/anaconda3/lib/python3.6/site-packages/ipykernel/__main__.py:35: DeprecationWarning: assignment will raise an error in the future, most likely because your index result shape does not match the value array shape. You can use `arr.flat[index] = values` to keep the old behaviour.\n"
     ]
    },
    {
     "name": "stdout",
     "output_type": "stream",
     "text": [
      "0.0993880626329\n"
     ]
    },
    {
     "name": "stderr",
     "output_type": "stream",
     "text": [
      "/home/clabuser/anaconda3/lib/python3.6/site-packages/ipykernel/__main__.py:35: DeprecationWarning: assignment will raise an error in the future, most likely because your index result shape does not match the value array shape. You can use `arr.flat[index] = values` to keep the old behaviour.\n",
      "/home/clabuser/anaconda3/lib/python3.6/site-packages/ipykernel/__main__.py:35: DeprecationWarning: assignment will raise an error in the future, most likely because your index result shape does not match the value array shape. You can use `arr.flat[index] = values` to keep the old behaviour.\n",
      "/home/clabuser/anaconda3/lib/python3.6/site-packages/ipykernel/__main__.py:35: DeprecationWarning: assignment will raise an error in the future, most likely because your index result shape does not match the value array shape. You can use `arr.flat[index] = values` to keep the old behaviour.\n"
     ]
    },
    {
     "name": "stdout",
     "output_type": "stream",
     "text": [
      "0.099388062707\n"
     ]
    },
    {
     "name": "stderr",
     "output_type": "stream",
     "text": [
      "/home/clabuser/anaconda3/lib/python3.6/site-packages/ipykernel/__main__.py:35: DeprecationWarning: assignment will raise an error in the future, most likely because your index result shape does not match the value array shape. You can use `arr.flat[index] = values` to keep the old behaviour.\n",
      "/home/clabuser/anaconda3/lib/python3.6/site-packages/ipykernel/__main__.py:35: DeprecationWarning: assignment will raise an error in the future, most likely because your index result shape does not match the value array shape. You can use `arr.flat[index] = values` to keep the old behaviour.\n",
      "/home/clabuser/anaconda3/lib/python3.6/site-packages/ipykernel/__main__.py:35: DeprecationWarning: assignment will raise an error in the future, most likely because your index result shape does not match the value array shape. You can use `arr.flat[index] = values` to keep the old behaviour.\n"
     ]
    },
    {
     "name": "stdout",
     "output_type": "stream",
     "text": [
      "0.0993880626824\n"
     ]
    },
    {
     "name": "stderr",
     "output_type": "stream",
     "text": [
      "/home/clabuser/anaconda3/lib/python3.6/site-packages/ipykernel/__main__.py:35: DeprecationWarning: assignment will raise an error in the future, most likely because your index result shape does not match the value array shape. You can use `arr.flat[index] = values` to keep the old behaviour.\n",
      "/home/clabuser/anaconda3/lib/python3.6/site-packages/ipykernel/__main__.py:35: DeprecationWarning: assignment will raise an error in the future, most likely because your index result shape does not match the value array shape. You can use `arr.flat[index] = values` to keep the old behaviour.\n",
      "/home/clabuser/anaconda3/lib/python3.6/site-packages/ipykernel/__main__.py:35: DeprecationWarning: assignment will raise an error in the future, most likely because your index result shape does not match the value array shape. You can use `arr.flat[index] = values` to keep the old behaviour.\n"
     ]
    },
    {
     "name": "stdout",
     "output_type": "stream",
     "text": [
      "0.0993880627837\n"
     ]
    },
    {
     "name": "stderr",
     "output_type": "stream",
     "text": [
      "/home/clabuser/anaconda3/lib/python3.6/site-packages/ipykernel/__main__.py:35: DeprecationWarning: assignment will raise an error in the future, most likely because your index result shape does not match the value array shape. You can use `arr.flat[index] = values` to keep the old behaviour.\n",
      "/home/clabuser/anaconda3/lib/python3.6/site-packages/ipykernel/__main__.py:35: DeprecationWarning: assignment will raise an error in the future, most likely because your index result shape does not match the value array shape. You can use `arr.flat[index] = values` to keep the old behaviour.\n",
      "/home/clabuser/anaconda3/lib/python3.6/site-packages/ipykernel/__main__.py:35: DeprecationWarning: assignment will raise an error in the future, most likely because your index result shape does not match the value array shape. You can use `arr.flat[index] = values` to keep the old behaviour.\n"
     ]
    },
    {
     "name": "stdout",
     "output_type": "stream",
     "text": [
      "0.0993880627691\n"
     ]
    },
    {
     "name": "stderr",
     "output_type": "stream",
     "text": [
      "/home/clabuser/anaconda3/lib/python3.6/site-packages/ipykernel/__main__.py:35: DeprecationWarning: assignment will raise an error in the future, most likely because your index result shape does not match the value array shape. You can use `arr.flat[index] = values` to keep the old behaviour.\n",
      "/home/clabuser/anaconda3/lib/python3.6/site-packages/ipykernel/__main__.py:35: DeprecationWarning: assignment will raise an error in the future, most likely because your index result shape does not match the value array shape. You can use `arr.flat[index] = values` to keep the old behaviour.\n",
      "/home/clabuser/anaconda3/lib/python3.6/site-packages/ipykernel/__main__.py:35: DeprecationWarning: assignment will raise an error in the future, most likely because your index result shape does not match the value array shape. You can use `arr.flat[index] = values` to keep the old behaviour.\n"
     ]
    },
    {
     "name": "stdout",
     "output_type": "stream",
     "text": [
      "0.0993880628505\n"
     ]
    },
    {
     "name": "stderr",
     "output_type": "stream",
     "text": [
      "/home/clabuser/anaconda3/lib/python3.6/site-packages/ipykernel/__main__.py:35: DeprecationWarning: assignment will raise an error in the future, most likely because your index result shape does not match the value array shape. You can use `arr.flat[index] = values` to keep the old behaviour.\n",
      "/home/clabuser/anaconda3/lib/python3.6/site-packages/ipykernel/__main__.py:35: DeprecationWarning: assignment will raise an error in the future, most likely because your index result shape does not match the value array shape. You can use `arr.flat[index] = values` to keep the old behaviour.\n",
      "/home/clabuser/anaconda3/lib/python3.6/site-packages/ipykernel/__main__.py:35: DeprecationWarning: assignment will raise an error in the future, most likely because your index result shape does not match the value array shape. You can use `arr.flat[index] = values` to keep the old behaviour.\n"
     ]
    },
    {
     "name": "stdout",
     "output_type": "stream",
     "text": [
      "0.0993880630783\n"
     ]
    },
    {
     "name": "stderr",
     "output_type": "stream",
     "text": [
      "/home/clabuser/anaconda3/lib/python3.6/site-packages/ipykernel/__main__.py:35: DeprecationWarning: assignment will raise an error in the future, most likely because your index result shape does not match the value array shape. You can use `arr.flat[index] = values` to keep the old behaviour.\n",
      "/home/clabuser/anaconda3/lib/python3.6/site-packages/ipykernel/__main__.py:35: DeprecationWarning: assignment will raise an error in the future, most likely because your index result shape does not match the value array shape. You can use `arr.flat[index] = values` to keep the old behaviour.\n",
      "/home/clabuser/anaconda3/lib/python3.6/site-packages/ipykernel/__main__.py:35: DeprecationWarning: assignment will raise an error in the future, most likely because your index result shape does not match the value array shape. You can use `arr.flat[index] = values` to keep the old behaviour.\n"
     ]
    },
    {
     "name": "stdout",
     "output_type": "stream",
     "text": [
      "0.0993880630883\n"
     ]
    },
    {
     "name": "stderr",
     "output_type": "stream",
     "text": [
      "/home/clabuser/anaconda3/lib/python3.6/site-packages/ipykernel/__main__.py:35: DeprecationWarning: assignment will raise an error in the future, most likely because your index result shape does not match the value array shape. You can use `arr.flat[index] = values` to keep the old behaviour.\n",
      "/home/clabuser/anaconda3/lib/python3.6/site-packages/ipykernel/__main__.py:35: DeprecationWarning: assignment will raise an error in the future, most likely because your index result shape does not match the value array shape. You can use `arr.flat[index] = values` to keep the old behaviour.\n",
      "/home/clabuser/anaconda3/lib/python3.6/site-packages/ipykernel/__main__.py:35: DeprecationWarning: assignment will raise an error in the future, most likely because your index result shape does not match the value array shape. You can use `arr.flat[index] = values` to keep the old behaviour.\n"
     ]
    },
    {
     "name": "stdout",
     "output_type": "stream",
     "text": [
      "0.0993880630126\n"
     ]
    },
    {
     "name": "stderr",
     "output_type": "stream",
     "text": [
      "/home/clabuser/anaconda3/lib/python3.6/site-packages/ipykernel/__main__.py:35: DeprecationWarning: assignment will raise an error in the future, most likely because your index result shape does not match the value array shape. You can use `arr.flat[index] = values` to keep the old behaviour.\n",
      "/home/clabuser/anaconda3/lib/python3.6/site-packages/ipykernel/__main__.py:35: DeprecationWarning: assignment will raise an error in the future, most likely because your index result shape does not match the value array shape. You can use `arr.flat[index] = values` to keep the old behaviour.\n",
      "/home/clabuser/anaconda3/lib/python3.6/site-packages/ipykernel/__main__.py:35: DeprecationWarning: assignment will raise an error in the future, most likely because your index result shape does not match the value array shape. You can use `arr.flat[index] = values` to keep the old behaviour.\n"
     ]
    },
    {
     "name": "stdout",
     "output_type": "stream",
     "text": [
      "0.0993880631399\n"
     ]
    },
    {
     "name": "stderr",
     "output_type": "stream",
     "text": [
      "/home/clabuser/anaconda3/lib/python3.6/site-packages/ipykernel/__main__.py:35: DeprecationWarning: assignment will raise an error in the future, most likely because your index result shape does not match the value array shape. You can use `arr.flat[index] = values` to keep the old behaviour.\n",
      "/home/clabuser/anaconda3/lib/python3.6/site-packages/ipykernel/__main__.py:35: DeprecationWarning: assignment will raise an error in the future, most likely because your index result shape does not match the value array shape. You can use `arr.flat[index] = values` to keep the old behaviour.\n",
      "/home/clabuser/anaconda3/lib/python3.6/site-packages/ipykernel/__main__.py:35: DeprecationWarning: assignment will raise an error in the future, most likely because your index result shape does not match the value array shape. You can use `arr.flat[index] = values` to keep the old behaviour.\n"
     ]
    },
    {
     "name": "stdout",
     "output_type": "stream",
     "text": [
      "0.0993880631581\n"
     ]
    },
    {
     "data": {
      "image/png": "[encoded data removed]",
      "text/plain": [
       "<matplotlib.figure.Figure at 0x7f2a6d014438>"
      ]
     },
     "metadata": {},
     "output_type": "display_data"
    }
   ],
   "source": [
    "\n",
    "# filename = 'Mug32_singlepixcam.mat'\n",
    "filename = 'Ball64_singlepixcam.mat'\n",
    "array = loadmat(filename)\n",
    "\n",
    "X = np.array(array['A'])\n",
    "Y = np.array(array['y'])\n",
    "nr,nc = X.shape\n",
    "\n",
    "#Normalization-1\n",
    "minimum = X.min(0);\n",
    "maximum = X.max(0);\n",
    "\n",
    "for i in np.arange(nc):\n",
    "    if(maximum[i]!=minimum[i]):\n",
    "        X[:,i] = (X[:,i]-minimum[i]) / (maximum[i]-minimum[i]);\n",
    "    else:\n",
    "        X[:,i] = np.ones(nr)\n",
    "\n",
    "#Normalization-2\n",
    "X = X - X.mean(axis=0)\n",
    "nrm = np.linalg.norm(X,axis = 0);\n",
    "X = X/nrm;\n",
    "alpha = 0.2160\n",
    "#########\n",
    "def func(wt,index,core):\n",
    "\n",
    "    t1 = np.dot(X,wt).reshape(nr,1)\n",
    "#     print t1.shape\n",
    "    t2 = t1- Y\n",
    "    t2 = t2.reshape(nr,1)\n",
    "#     print t2.shape\n",
    "    g = np.dot(X[:,index].T,t2)\n",
    "#     print g.shape\n",
    "    wt[index] = wt[index] - alpha * g/nr\n",
    "    \n",
    "#     print 'wt'\n",
    "    if core == 0:\n",
    "        q0.put(wt)\n",
    "    elif core==1:\n",
    "        q1.put(wt)\n",
    "    else:\n",
    "        q2.put(wt)\n",
    "#     print 'pushed into Queue'\n",
    "\n",
    "\n",
    "    # alpha = alphas[l];\n",
    "l=50\n",
    "err = np.zeros(l)\n",
    "c=0    \n",
    "diff = int(floor(nc/3))\n",
    "w = np.zeros(nc,dtype = np.float64)\n",
    "q0 = Queue()\n",
    "q1 = Queue()\n",
    "q2 = Queue()\n",
    "for i in np.arange(l):\n",
    "    perm = np.random.permutation(nc)\n",
    "    ind0 = perm[0:diff]\n",
    "    ind1 = perm[diff:2*diff]\n",
    "    ind2 = perm[2*diff:nc]\n",
    "    p0 = Process(target = func, args =[w,ind0,0] )\n",
    "    p1 = Process(target = func, args =[w,ind1,1] )\n",
    "    p2 = Process(target = func, args =[w,ind2,2] )\n",
    "\n",
    "    p0.start()\n",
    "    p1.start()\n",
    "    p2.start()\n",
    "#     print 'Started'\n",
    "\n",
    "    w[ind0] = (q0.get(True))[ind0]\n",
    "    w[ind1] = (q1.get(True))[ind1]\n",
    "    w[ind2] = (q2.get(True))[ind2]\n",
    "#     print 'w computed'\n",
    "\n",
    "\n",
    "    #res = np.append(q0.get(True), q1.get(True))\n",
    "    #res = np.append(res,  q2.get(True))\n",
    "    p0.join()\n",
    "    #print 'p0 END'\n",
    "    p1.join()\n",
    "    #print 'p1 END'\n",
    "    p2.join()\n",
    "    #print 'p2 END'\n",
    "#     print 'Completed'\n",
    "    pred = np.dot(X , w)#.reshape(nr,1); \n",
    "\n",
    "    # print 'Prediction'\n",
    "    differ = (pred-Y)\n",
    "    #print Y.shape\n",
    "    #print differ.shape\n",
    "    MSE = np.mean( np.square(differ) );\n",
    "    print (MSE)\n",
    "    err[c] = MSE\n",
    "    c+=1\n",
    "plt.plot(err)\n",
    "plt.xlabel('Iterations')\n",
    "plt.ylabel('Error')\n",
    "plt.show()\n"
   ]
  }
 ],
 "metadata": {
  "kernelspec": {
   "display_name": "Python 3",
   "language": "python",
   "name": "python3"
  },
  "language_info": {
   "codemirror_mode": {
    "name": "ipython",
    "version": 3
   },
   "file_extension": ".py",
   "mimetype": "text/x-python",
   "name": "python",
   "nbconvert_exporter": "python",
   "pygments_lexer": "ipython3",
   "version": "3.6.0"
  }
 },
 "nbformat": 4,
 "nbformat_minor": 2
}
