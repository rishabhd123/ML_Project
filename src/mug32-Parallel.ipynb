{
 "cells": [
  {
   "cell_type": "code",
   "execution_count": 1,
   "metadata": {
    "collapsed": false
   },
   "outputs": [],
   "source": [
    "import time\n",
    "from joblib import Parallel, delayed\n",
    "from scipy.io import loadmat \n",
    "import numpy as np\n",
    "from pandas import read_csv\n",
    "from multiprocessing import Process, Queue\n",
    "from math import floor\n"
   ]
  },
  {
   "cell_type": "code",
   "execution_count": 2,
   "metadata": {
    "collapsed": false
   },
   "outputs": [
    {
     "name": "stdout",
     "output_type": "stream",
     "text": [
      "0\n",
      "z1 w2-w1 MSE Error:0.000785\n",
      "z2  w1-w2  MSE Error:0.000764\n",
      "45.2452837335\n"
     ]
    },
    {
     "name": "stderr",
     "output_type": "stream",
     "text": [
      "/home/clabuser/anaconda3/lib/python3.6/site-packages/ipykernel/__main__.py:63: VisibleDeprecationWarning: using a non-integer number instead of an integer will result in an error in the future\n",
      "/home/clabuser/anaconda3/lib/python3.6/site-packages/ipykernel/__main__.py:64: VisibleDeprecationWarning: using a non-integer number instead of an integer will result in an error in the future\n",
      "/home/clabuser/anaconda3/lib/python3.6/site-packages/ipykernel/__main__.py:66: VisibleDeprecationWarning: using a non-integer number instead of an integer will result in an error in the future\n",
      "/home/clabuser/anaconda3/lib/python3.6/site-packages/ipykernel/__main__.py:67: VisibleDeprecationWarning: using a non-integer number instead of an integer will result in an error in the future\n"
     ]
    },
    {
     "name": "stdout",
     "output_type": "stream",
     "text": [
      "1\n",
      "z1 w2-w1 MSE Error:0.000796\n",
      "z2  w1-w2  MSE Error:0.000754\n",
      "45.2357338011\n",
      "2\n",
      "z1 w2-w1 MSE Error:0.000806\n",
      "z2  w1-w2  MSE Error:0.000744\n",
      "45.22618417\n",
      "3\n",
      "z1 w2-w1 MSE Error:0.000817\n",
      "z2  w1-w2  MSE Error:0.000734\n",
      "45.2166347992\n",
      "4\n",
      "z1 w2-w1 MSE Error:0.000827\n",
      "z2  w1-w2  MSE Error:0.000724\n",
      "45.2070858034\n"
     ]
    }
   ],
   "source": [
    "\n",
    "# filename = 'Mug128_singlepixcam.mat'\n",
    "filename = 'Mug32_singlepixcam.mat'\n",
    "array = loadmat(filename)\n",
    "\n",
    "X = np.array(array['A'])\n",
    "Y = np.array(array['y'])\n",
    "nr,nc = X.shape\n",
    "# print X.shape\n",
    "beta = 1;  # For Squared Loss\n",
    "lamda = 0.216;\n",
    "\n",
    "#Normalization-1\n",
    "minimum = X.min(0);\n",
    "maximum = X.max(0);\n",
    "\n",
    "for i in np.arange(nc):\n",
    "    if(maximum[i]!=minimum[i]):\n",
    "        X[:,i] = (X[:,i]-minimum[i]) / (maximum[i]-minimum[i]);\n",
    "    else:\n",
    "        X[:,i] = np.ones(nr)\n",
    "\n",
    "#Normalization-2\n",
    "X = X - X.mean(axis=0)\n",
    "nrm = np.linalg.norm(X,axis = 0);\n",
    "\n",
    "for i in np.arange(nc):\n",
    "\tif nrm[i]>0:\n",
    "\t\tX[:,i] = X[:,i]/nrm[i]\n",
    "\n",
    "Data = X\n",
    "X = np.concatenate((X,-X), axis = 1)\n",
    "nc = 2*nc;\n",
    "# print nc,X.shape\n",
    "# print nc\n",
    "# sys.exit(0)\n",
    "\n",
    "w = np.zeros(nc,dtype = np.float64).reshape(nc,1) +1\n",
    "# w = np.random.rand(nc,1)\n",
    "\n",
    "def func(index):\n",
    "\t# print index\n",
    "\tt1 = np.dot(X,w)\n",
    "\tt2 = t1- Y\n",
    "\n",
    "\tg = np.dot(X[:,index].T,t2) + lamda; #why nr??\n",
    "\tw[index] = w[index] -   0.001*g/beta; # alpha\n",
    "\t# print w[index]\n",
    "\tif w[index]<0:\n",
    "\t\tw[index] = 0;\n",
    "\n",
    "\treturn w[index]\n",
    "    \n",
    "for i in np.arange(5):\n",
    "    for k in np.arange(0,nc-100,100):\n",
    "        with Parallel(n_jobs=20) as parallel:\n",
    "            results = parallel(delayed(func)(j)for j in np.arange(k,k+100) )\n",
    "        w[k:k+100] = results\n",
    "    \n",
    "    \n",
    "    print (i)\n",
    "    temp = nc/2\n",
    "    z1 = np.subtract(w[temp:nc] , w[0:temp])\n",
    "    z1 = z1.reshape(temp,1)\n",
    "    \n",
    "    z2 = np.subtract(w[0:temp],w[temp:nc])\n",
    "    z2 = z2.reshape(temp,1)\n",
    "    # pred = np.dot(X , w)#.reshape(nr,1);    Change W acc to algo\n",
    "    pred = np.dot(Data,z1)\n",
    "    differ = (pred-Y)\n",
    "    MSE = np.mean( np.square(differ) )\n",
    "    print ('z1 w2-w1 MSE Error:%f' % MSE)\n",
    "\n",
    "    pred = np.dot(Data,z2)\n",
    "    differ = (pred-Y)\n",
    "    MSE = np.mean( np.square(differ) )\n",
    "    print ('z2  w1-w2  MSE Error:%f' % MSE)\n",
    "            \n",
    "    print (np.linalg.norm(w))\n",
    "\n",
    "# z1 w2-w1 MSE Error:0.002479\n",
    "# z2  w1-w2  MSE Error:0.000189\n",
    "# 43.0451249322\n",
    "# 232\n",
    "# z1 w2-w1 MSE Error:0.002483\n",
    "# z2  w1-w2  MSE Error:0.000189\n",
    "# 43.035619945\n",
    "# 233\n",
    "# z1 w2-w1 MSE Error:0.002487\n",
    "# z2  w1-w2  MSE Error:0.000189\n",
    "# 43.0261151329\n",
    "# 234\n",
    "# z1 w2-w1 MSE Error:0.002491\n",
    "# z2  w1-w2  MSE Error:0.000189\n",
    "# 43.0166104262\n",
    "# 235"
   ]
  },
  {
   "cell_type": "code",
   "execution_count": 3,
   "metadata": {
    "collapsed": false
   },
   "outputs": [
    {
     "name": "stdout",
     "output_type": "stream",
     "text": [
      "MSE Error:0.000827\n"
     ]
    },
    {
     "name": "stderr",
     "output_type": "stream",
     "text": [
      "/home/clabuser/anaconda3/lib/python3.6/site-packages/ipykernel/__main__.py:2: VisibleDeprecationWarning: using a non-integer number instead of an integer will result in an error in the future\n",
      "  from ipykernel import kernelapp as app\n",
      "/home/clabuser/anaconda3/lib/python3.6/site-packages/ipykernel/__main__.py:3: VisibleDeprecationWarning: using a non-integer number instead of an integer will result in an error in the future\n",
      "  app.launch_new_instance()\n"
     ]
    }
   ],
   "source": [
    "temp = nc/2\n",
    "z = w[temp:nc] - w[0:temp]\n",
    "z = z.reshape(temp,1)\n",
    "# pred = np.dot(X , w)#.reshape(nr,1);    Change W acc to algo\n",
    "pred = np.dot(Data,z)\n",
    "differ = (pred-Y)\n",
    "MSE = np.mean( np.square(differ) );\n",
    "print ('MSE Error:%f' % MSE)"
   ]
  },
  {
   "cell_type": "code",
   "execution_count": null,
   "metadata": {
    "collapsed": false
   },
   "outputs": [],
   "source": []
  }
 ],
 "metadata": {
  "kernelspec": {
   "display_name": "Python 3",
   "language": "python",
   "name": "python3"
  },
  "language_info": {
   "codemirror_mode": {
    "name": "ipython",
    "version": 3
   },
   "file_extension": ".py",
   "mimetype": "text/x-python",
   "name": "python",
   "nbconvert_exporter": "python",
   "pygments_lexer": "ipython3",
   "version": "3.6.0"
  }
 },
 "nbformat": 4,
 "nbformat_minor": 2
}
